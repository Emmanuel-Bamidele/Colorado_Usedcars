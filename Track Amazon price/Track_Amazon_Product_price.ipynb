{
 "cells": [
  {
   "cell_type": "markdown",
   "metadata": {},
   "source": [
    "### Code Description\n",
    "\n",
    "In this code, I will be tracking a the price of a product on Amazon. \n",
    "\n",
    "- Copy and paste the url when asked for url in second cell\n",
    "- Set the price you want to monitor in the if statement in the last cell\n",
    "- Edit second email to receive the mail "
   ]
  },
  {
   "cell_type": "code",
   "execution_count": 1,
   "metadata": {},
   "outputs": [],
   "source": [
    "import re\n",
    "import io\n",
    "from bs4 import BeautifulSoup\n",
    "import requests\n",
    "import urllib"
   ]
  },
  {
   "cell_type": "code",
   "execution_count": 2,
   "metadata": {},
   "outputs": [
    {
     "name": "stdout",
     "output_type": "stream",
     "text": [
      "Product url : https://www.amazon.com/Blokus-Duo-Player-Strategy-Game/dp/B079K6V5WR?pf_rd_r=AJYF8F25D2Q2AF95NMZH&pf_rd_p=f019e28c-3c4a-416c-bcb9-a6ce92c68702&pd_rd_r=94637a98-e3d4-4546-9001-573bad754d8d&pd_rd_w=Rg1sW&pd_rd_wg=muR3R&ref_=pd_gw_cr_cartx\n"
     ]
    }
   ],
   "source": [
    "headers = {'User-Agent':'Mozilla/5.0 (Windows NT 10.0; Win64; x64) AppleWebKit/537.36 (KHTML, like Gecko) Chrome/83.0.4103.106 Safari/537.36'}\n",
    "url= str(input(\"Product url : \"));\n",
    "#url='https://www.amazon.com/Blokus-Duo-Player-Strategy-Game/dp/B079K6V5WR?pf_rd_r=AJYF8F25D2Q2AF95NMZH&pf_rd_p=f019e28c-3c4a-416c-bcb9-a6ce92c68702&pd_rd_r=94637a98-e3d4-4546-9001-573bad754d8d&pd_rd_w=Rg1sW&pd_rd_wg=muR3R&ref_=pd_gw_cr_cartx'\n",
    "contents=requests.get(url,headers=headers)\n",
    "#print(contents.text) - see if i'm getting some content\n",
    "html=contents.content\n",
    "\n",
    "soup = BeautifulSoup(html, features='lxml')"
   ]
  },
  {
   "cell_type": "code",
   "execution_count": 3,
   "metadata": {},
   "outputs": [
    {
     "name": "stdout",
     "output_type": "stream",
     "text": [
      "Blokus Duo Game\n"
     ]
    }
   ],
   "source": [
    "product_name = soup.select(\"#productTitle\")[0].get_text().strip()\n",
    "print(product_name)"
   ]
  },
  {
   "cell_type": "code",
   "execution_count": 4,
   "metadata": {},
   "outputs": [
    {
     "name": "stdout",
     "output_type": "stream",
     "text": [
      "14.99\n"
     ]
    }
   ],
   "source": [
    "product_price = soup.select(\"#priceblock_ourprice\")[0].get_text().strip()\n",
    "converted_price = float(product_price[1:]) #remove the dollar symbol\n",
    "print(converted_price)"
   ]
  },
  {
   "cell_type": "markdown",
   "metadata": {},
   "source": [
    "### Sending As Email\n",
    "\n",
    "- First, turn on the google two step verification\n",
    "- Then google app password - create one for mail and get a password\n",
    "\n",
    "- can use this to send emails"
   ]
  },
  {
   "cell_type": "code",
   "execution_count": 7,
   "metadata": {},
   "outputs": [
    {
     "name": "stdout",
     "output_type": "stream",
     "text": [
      "Hey Email sent\n"
     ]
    }
   ],
   "source": [
    "#send email for price update\n",
    "import smtplib\n",
    "\n",
    "def sendemail():\n",
    "    server = smtplib.SMTP('smtp.gmail.com', 587)\n",
    "    server.ehlo()\n",
    "    server.starttls()\n",
    "    server.ehlo()\n",
    "    \n",
    "    server.login('bamideleemmanuel02@gmail.com', 'bnngusejgmsqdhrh')\n",
    "    \n",
    "    subject = \"New Price for \", product_name\n",
    "    body = \"This is the link\", url, \"New Price: \", product_price\n",
    "    \n",
    "    msg = f\"Subject: {subject}\\n\\n\\ {body}\"\n",
    "    \n",
    "    server.sendmail(\n",
    "            'bamideleemmanuel02@gmail.com', \n",
    "            '218045808@student.uj.ac.za',\n",
    "            msg\n",
    "    )\n",
    "    print('Hey Email sent')\n",
    "    \n",
    "    server.quit\n",
    "    \n",
    "if (converted_price < 15):\n",
    "    sendemail()"
   ]
  }
 ],
 "metadata": {
  "kernelspec": {
   "display_name": "Python 3",
   "language": "python",
   "name": "python3"
  },
  "language_info": {
   "codemirror_mode": {
    "name": "ipython",
    "version": 3
   },
   "file_extension": ".py",
   "mimetype": "text/x-python",
   "name": "python",
   "nbconvert_exporter": "python",
   "pygments_lexer": "ipython3",
   "version": "3.7.3"
  }
 },
 "nbformat": 4,
 "nbformat_minor": 2
}
